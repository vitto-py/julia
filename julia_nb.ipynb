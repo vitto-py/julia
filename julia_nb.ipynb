{
 "cells": [
  {
   "cell_type": "code",
   "execution_count": 1,
   "id": "b5ebb28e-0a40-4ada-8d73-5fd7f658ba4c",
   "metadata": {},
   "outputs": [
    {
     "data": {
      "text/plain": [
       "1"
      ]
     },
     "execution_count": 1,
     "metadata": {},
     "output_type": "execute_result"
    }
   ],
   "source": [
    "# this is way better\n",
    "\n",
    "i =0\n",
    "i+=1"
   ]
  },
  {
   "cell_type": "code",
   "execution_count": 2,
   "id": "75c125ac-f406-43ce-ad0f-746bc89187c7",
   "metadata": {
    "tags": []
   },
   "outputs": [
    {
     "name": "stdout",
     "output_type": "stream",
     "text": [
      "this is odd\n",
      "this is even\n",
      "this is odd\n",
      "this is even\n",
      "this is odd\n",
      "this is even\n"
     ]
    }
   ],
   "source": [
    " # The most pythonic way\n",
    "i = 0\n",
    "\n",
    "while true\n",
    "    global i+=1 # use the i that was defined outside this loop\n",
    "    i>6 && break\n",
    "    isodd(i) ? println(\"this is odd\") : println(\"this is even\")\n",
    "end"
   ]
  },
  {
   "cell_type": "code",
   "execution_count": 4,
   "id": "6d6fb27a-6aff-4623-9f2e-4fe8a54bd63d",
   "metadata": {
    "tags": []
   },
   "outputs": [
    {
     "name": "stdout",
     "output_type": "stream",
     "text": [
      "2 is even\n",
      "4 is even\n",
      "6 is even\n"
     ]
    }
   ],
   "source": [
    "i = 0\n",
    "while true\n",
    "    global i+=1\n",
    "    i>6 && break\n",
    "    isodd(i) && continue # we check whether it is odd. If this is the case, we skip the rest of the body of the loop; \n",
    "    println(i, \" is even\")\n",
    "end"
   ]
  },
  {
   "cell_type": "markdown",
   "id": "c308e248-a5bd-4c4a-9675-506778de0e8d",
   "metadata": {},
   "source": [
    "## Compound expressions\n",
    "In Julia, you have two options for packing several expressions into one.\n",
    "* begin-end blocks\n",
    "* use ;"
   ]
  },
  {
   "cell_type": "code",
   "execution_count": 5,
   "id": "dda0eb79-5538-4f0e-a4fe-ee12dd60c3d5",
   "metadata": {
    "tags": []
   },
   "outputs": [
    {
     "name": "stdout",
     "output_type": "stream",
     "text": [
      "-7\n",
      "-6\n"
     ]
    },
    {
     "data": {
      "text/plain": [
       "-12"
      ]
     },
     "execution_count": 5,
     "metadata": {},
     "output_type": "execute_result"
    }
   ],
   "source": [
    "x = -7\n",
    "\n",
    "x < 0 && begin\n",
    "    println(x)\n",
    "    x += 1\n",
    "    println(x)\n",
    "    x *2\n",
    "end"
   ]
  },
  {
   "cell_type": "code",
   "execution_count": 6,
   "id": "b62c98ae-087b-40b9-bb16-78d90cb20da4",
   "metadata": {
    "tags": []
   },
   "outputs": [
    {
     "name": "stdout",
     "output_type": "stream",
     "text": [
      "-5\n"
     ]
    },
    {
     "data": {
      "text/plain": [
       "-5"
      ]
     },
     "execution_count": 6,
     "metadata": {},
     "output_type": "execute_result"
    }
   ],
   "source": [
    "# bcs x = -6, it goes to the else part, x += +1 -6 = -5 and then prints \n",
    "x > 0 ? (println(x); x) : (x += 1; println(x); x)"
   ]
  },
  {
   "cell_type": "markdown",
   "id": "f629f3a7-e8a1-498a-9d86-42167b82299a",
   "metadata": {},
   "source": [
    "## winsorized mean"
   ]
  },
  {
   "cell_type": "code",
   "execution_count": 7,
   "id": "c714004a-02eb-422a-9b8f-98a965e65408",
   "metadata": {
    "tags": []
   },
   "outputs": [
    {
     "name": "stdout",
     "output_type": "stream",
     "text": [
      "8\n"
     ]
    }
   ],
   "source": [
    "# define a vector\n",
    "x = [8, 3, 1, 5, 7]\n",
    "\n",
    "# set k\n",
    "k = 1\n",
    "\n",
    "#sort \n",
    "y = sort(x)\n",
    "\n",
    "#special julia\n",
    "println(y[end])"
   ]
  },
  {
   "cell_type": "code",
   "execution_count": 9,
   "id": "e7584741-f7ff-4a91-b3bf-6d0ce34cc322",
   "metadata": {
    "tags": []
   },
   "outputs": [
    {
     "data": {
      "text/plain": [
       "1"
      ]
     },
     "execution_count": 9,
     "metadata": {},
     "output_type": "execute_result"
    }
   ],
   "source": [
    "# in Julia arrays start at 1\n",
    "y[1]"
   ]
  },
  {
   "cell_type": "code",
   "execution_count": 10,
   "id": "fb8cd82e-924c-4bca-8f5a-70c3234c8e49",
   "metadata": {
    "tags": []
   },
   "outputs": [
    {
     "name": "stdout",
     "output_type": "stream",
     "text": [
      "1\n"
     ]
    }
   ],
   "source": [
    "# \n",
    "for i in 1:k # k=1 and 1:k creates an iterable range\n",
    "    println(i)\n",
    "    y[i] = y[k + 1]\n",
    "    y[end - i + 1] = y[end - k]\n",
    "end"
   ]
  },
  {
   "cell_type": "code",
   "execution_count": 11,
   "id": "e94a71d7-5999-4300-9c83-8dfb937de5c4",
   "metadata": {
    "tags": []
   },
   "outputs": [
    {
     "data": {
      "text/plain": [
       "5-element Vector{Int64}:\n",
       " 3\n",
       " 3\n",
       " 5\n",
       " 7\n",
       " 7"
      ]
     },
     "execution_count": 11,
     "metadata": {},
     "output_type": "execute_result"
    }
   ],
   "source": [
    "y"
   ]
  },
  {
   "cell_type": "code",
   "execution_count": 12,
   "id": "463b7f71-ed75-41bb-99bb-a9b0d33b910d",
   "metadata": {},
   "outputs": [
    {
     "data": {
      "text/plain": [
       "5.0"
      ]
     },
     "execution_count": 12,
     "metadata": {},
     "output_type": "execute_result"
    }
   ],
   "source": [
    "# calculate the winsorize mean\n",
    "s = 0\n",
    "\n",
    "#get SUM()\n",
    "for v in y\n",
    "    global s+=v\n",
    "end\n",
    "\n",
    "s/length(y)"
   ]
  },
  {
   "cell_type": "markdown",
   "id": "f68967dd-3e7c-4f48-98ba-a0dfc94289a7",
   "metadata": {},
   "source": [
    "# Functions"
   ]
  },
  {
   "cell_type": "code",
   "execution_count": 13,
   "id": "d73a67a9-3578-46b8-b34b-4e75e9ff5ebf",
   "metadata": {
    "tags": []
   },
   "outputs": [
    {
     "data": {
      "text/plain": [
       "times_two (generic function with 1 method)"
      ]
     },
     "execution_count": 13,
     "metadata": {},
     "output_type": "execute_result"
    }
   ],
   "source": [
    "function times_two(x)\n",
    "    return 2*x\n",
    "end\n"
   ]
  },
  {
   "cell_type": "code",
   "execution_count": 14,
   "id": "d16850a7-6273-482d-a46e-e2ed2bbd70c3",
   "metadata": {
    "tags": []
   },
   "outputs": [
    {
     "data": {
      "text/plain": [
       "20"
      ]
     },
     "execution_count": 14,
     "metadata": {},
     "output_type": "execute_result"
    }
   ],
   "source": [
    "times_two(10)"
   ]
  },
  {
   "cell_type": "code",
   "execution_count": 15,
   "id": "8e1fb633-faf3-47ca-a030-76aeba1f7327",
   "metadata": {
    "tags": []
   },
   "outputs": [
    {
     "data": {
      "text/plain": [
       "compose (generic function with 2 methods)"
      ]
     },
     "execution_count": 15,
     "metadata": {},
     "output_type": "execute_result"
    }
   ],
   "source": [
    "# after you declare one default, all the folowers must have dft values\n",
    "function compose(x, y=10; a, b=10) # positional and keyword args\n",
    "    return x, y, a, b # returns multiple values\n",
    "end"
   ]
  },
  {
   "cell_type": "code",
   "execution_count": 16,
   "id": "d43cde41-8d4f-4f71-92c6-37ba72fcff4a",
   "metadata": {
    "tags": []
   },
   "outputs": [
    {
     "data": {
      "text/plain": [
       "(1, 2, 3, 4)"
      ]
     },
     "execution_count": 16,
     "metadata": {},
     "output_type": "execute_result"
    }
   ],
   "source": [
    "compose(1, 2; a=3, b=4)\n",
    "# x and y are POSTIONAL (the position matters)\n",
    "# a and b are keyword arguments , you must call them by name "
   ]
  },
  {
   "cell_type": "code",
   "execution_count": 19,
   "id": "c31cb718-bdfc-4781-9fbf-742bb1ac7466",
   "metadata": {
    "tags": []
   },
   "outputs": [
    {
     "data": {
      "text/plain": [
       "(5, 10, 3, 10)"
      ]
     },
     "execution_count": 19,
     "metadata": {},
     "output_type": "execute_result"
    }
   ],
   "source": [
    "compose(5; a=3)\n",
    "# uses the default values\n"
   ]
  },
  {
   "cell_type": "code",
   "execution_count": 20,
   "id": "d1fcb65e-36fb-4a8c-ad34-ed09e45b7af5",
   "metadata": {
    "tags": []
   },
   "outputs": [
    {
     "data": {
      "text/plain": [
       "3-element Vector{Int64}:\n",
       " 1\n",
       " 2\n",
       " 3"
      ]
     },
     "execution_count": 20,
     "metadata": {},
     "output_type": "execute_result"
    }
   ],
   "source": [
    "# pass by sharing\n",
    "function f!(x)\n",
    "    x[1] = 10\n",
    "    return x\n",
    "end\n",
    "x = [1, 2, 3]"
   ]
  },
  {
   "cell_type": "code",
   "execution_count": 21,
   "id": "1f936ca4-b03f-4d41-b928-1f0004876c8b",
   "metadata": {
    "tags": []
   },
   "outputs": [
    {
     "data": {
      "text/plain": [
       "3-element Vector{Int64}:\n",
       " 10\n",
       "  2\n",
       "  3"
      ]
     },
     "execution_count": 21,
     "metadata": {},
     "output_type": "execute_result"
    }
   ],
   "source": [
    "f!(x)"
   ]
  },
  {
   "cell_type": "code",
   "execution_count": 22,
   "id": "39dcba1b-a219-4e02-8cd6-0a7142ee60b6",
   "metadata": {
    "tags": []
   },
   "outputs": [
    {
     "data": {
      "text/plain": [
       "3-element Vector{Int64}:\n",
       " 10\n",
       "  2\n",
       "  3"
      ]
     },
     "execution_count": 22,
     "metadata": {},
     "output_type": "execute_result"
    }
   ],
   "source": [
    "x"
   ]
  },
  {
   "cell_type": "markdown",
   "id": "f20428c4-0311-4cca-aadf-910cb84ffbfe",
   "metadata": {},
   "source": [
    "### Similar to arrow functions"
   ]
  },
  {
   "cell_type": "code",
   "execution_count": 23,
   "id": "b1b7eb86-1657-4995-8290-be68119a5018",
   "metadata": {
    "tags": []
   },
   "outputs": [
    {
     "data": {
      "text/plain": [
       "times_two (generic function with 1 method)"
      ]
     },
     "execution_count": 23,
     "metadata": {},
     "output_type": "execute_result"
    }
   ],
   "source": [
    "times_two(x) = 2 * x"
   ]
  },
  {
   "cell_type": "code",
   "execution_count": 24,
   "id": "1b845b4e-93c9-448b-b772-006bf8fcfbae",
   "metadata": {
    "tags": []
   },
   "outputs": [
    {
     "data": {
      "text/plain": [
       "6"
      ]
     },
     "execution_count": 24,
     "metadata": {},
     "output_type": "execute_result"
    }
   ],
   "source": [
    "times_two(3)"
   ]
  },
  {
   "cell_type": "markdown",
   "id": "82661f93-21c5-40d5-a444-ad9177e523e0",
   "metadata": {},
   "source": [
    "### FUNCTIONS CAN BE PASSED AS ARGUMENTS TO OTHER FUNCTIONS IN JULIA"
   ]
  },
  {
   "cell_type": "code",
   "execution_count": 25,
   "id": "9ff1dd9f-8d2a-4dd3-a5af-70a04541a8ac",
   "metadata": {
    "tags": []
   },
   "outputs": [
    {
     "data": {
      "text/plain": [
       "3-element Vector{Int64}:\n",
       " 2\n",
       " 4\n",
       " 6"
      ]
     },
     "execution_count": 25,
     "metadata": {},
     "output_type": "execute_result"
    }
   ],
   "source": [
    "#A useful feature of Julia is that functions are first-class objects, \n",
    "map(times_two, [1, 2, 3])\n",
    "#  map function that takes two arguments: a function and a collection"
   ]
  },
  {
   "cell_type": "markdown",
   "id": "25413f18-6cf5-4724-ae93-7b2e00572880",
   "metadata": {},
   "source": [
    "### Anonymous functions\n",
    "Functions that not need a name ( use ->)"
   ]
  },
  {
   "cell_type": "code",
   "execution_count": 26,
   "id": "13ff46af-ae09-4c87-b66b-1ded145d2fbf",
   "metadata": {
    "tags": []
   },
   "outputs": [
    {
     "data": {
      "text/plain": [
       "3-element Vector{Int64}:\n",
       " 2\n",
       " 4\n",
       " 6"
      ]
     },
     "execution_count": 26,
     "metadata": {},
     "output_type": "execute_result"
    }
   ],
   "source": [
    "map(x -> 2 * x, [1, 2, 3])"
   ]
  },
  {
   "cell_type": "code",
   "execution_count": 29,
   "id": "e04ff1c0-bee5-42ba-b1d4-3b2c6ef7e31c",
   "metadata": {
    "tags": []
   },
   "outputs": [
    {
     "data": {
      "text/plain": [
       "#10 (generic function with 1 method)"
      ]
     },
     "execution_count": 29,
     "metadata": {},
     "output_type": "execute_result"
    }
   ],
   "source": [
    "# more that 2 args\n",
    "(x, y) -> x + y"
   ]
  },
  {
   "cell_type": "code",
   "execution_count": 30,
   "id": "f6f1abc5-d09e-42b7-943c-8590e4b1f5c8",
   "metadata": {
    "tags": []
   },
   "outputs": [
    {
     "name": "stdout",
     "output_type": "stream",
     "text": [
      "processing 1\n",
      "processing 2\n",
      "processing 3\n"
     ]
    },
    {
     "data": {
      "text/plain": [
       "14"
      ]
     },
     "execution_count": 30,
     "metadata": {},
     "output_type": "execute_result"
    }
   ],
   "source": [
    "#= A do-end block defines an anonymous function taking\n",
    "a single argument x. This anonymous function is\n",
    "passed as a first argument to the sum function. =#\n",
    "\n",
    "sum([1, 2, 3]) do x\n",
    "    println(\"processing \", x)\n",
    "    return x ^ 2\n",
    "end"
   ]
  },
  {
   "cell_type": "code",
   "execution_count": 31,
   "id": "cfc03740-14ea-49ab-85af-56eb34d088bb",
   "metadata": {
    "tags": []
   },
   "outputs": [
    {
     "data": {
      "text/plain": [
       "3-element Vector{Int64}:\n",
       "  2\n",
       "  3\n",
       " 10"
      ]
     },
     "execution_count": 31,
     "metadata": {},
     "output_type": "execute_result"
    }
   ],
   "source": [
    "sort!(x) #line inplace=true"
   ]
  },
  {
   "cell_type": "code",
   "execution_count": 32,
   "id": "074b4a81-ea6f-41d3-8d73-2fef66f8a1fb",
   "metadata": {
    "tags": []
   },
   "outputs": [
    {
     "data": {
      "text/plain": [
       "winsorized_mean (generic function with 1 method)"
      ]
     },
     "execution_count": 32,
     "metadata": {},
     "output_type": "execute_result"
    }
   ],
   "source": [
    "function winsorized_mean(x, k)\n",
    "    y = sort(x)\n",
    "    for i in 1:k\n",
    "    y[i] = y[k + 1]\n",
    "    y[end - i + 1] = y[end - k]\n",
    "    end\n",
    "    s = 0\n",
    "    for v in y\n",
    "    s += v # no göblal: The reason is that this time, the s variable is local since it is defined in the body of the function.\n",
    "    end\n",
    "    return s / length(y)\n",
    "end"
   ]
  },
  {
   "cell_type": "code",
   "execution_count": 33,
   "id": "29e3d0c5-e024-407e-b67f-3821e0aa00d2",
   "metadata": {
    "tags": []
   },
   "outputs": [
    {
     "data": {
      "text/plain": [
       "5.0"
      ]
     },
     "execution_count": 33,
     "metadata": {},
     "output_type": "execute_result"
    }
   ],
   "source": [
    " winsorized_mean([8, 3, 1, 5, 7], 1)"
   ]
  },
  {
   "cell_type": "markdown",
   "id": "9acd79b9-7fd7-4c06-82fd-36ea786b83ac",
   "metadata": {},
   "source": [
    "# scoping works\n",
    "Julia is different from, for example, Python\n",
    "\n",
    "The following types of constructs reate a new scope (called local scope)\n",
    "* Functions, anonymous functions, do-end blocks\n",
    "* for and while loops\n",
    "* try-catch-end blocks (discussed in section chapter 7)\n",
    "* Comprehensions (discussed in chapter 4)\n",
    "\n",
    "> Notably, the if blocks and begin-end blocks do not introduce a new scope. Variables\n",
    "defined in these blocks leak out to the enclosing scope. (the variable is also visible outside the block\n",
    "\n"
   ]
  },
  {
   "cell_type": "code",
   "execution_count": 34,
   "id": "8d0a0c1e-8df7-4883-b6bf-7e005975673f",
   "metadata": {
    "tags": []
   },
   "outputs": [
    {
     "data": {
      "text/plain": [
       "fun2 (generic function with 1 method)"
      ]
     },
     "execution_count": 34,
     "metadata": {},
     "output_type": "execute_result"
    }
   ],
   "source": [
    "function fun2()\n",
    "    if true\n",
    "        x = 10\n",
    "    end\n",
    "    return x\n",
    "end"
   ]
  },
  {
   "cell_type": "code",
   "execution_count": 35,
   "id": "ce5b33a1-3d81-43c4-88aa-5c39b0980f30",
   "metadata": {
    "tags": []
   },
   "outputs": [
    {
     "data": {
      "text/plain": [
       "10"
      ]
     },
     "execution_count": 35,
     "metadata": {},
     "output_type": "execute_result"
    }
   ],
   "source": [
    "fun2() # you can see 10"
   ]
  },
  {
   "cell_type": "code",
   "execution_count": null,
   "id": "c11591e0-e1f9-4445-b0ca-2056e8c56f92",
   "metadata": {},
   "outputs": [],
   "source": []
  },
  {
   "cell_type": "code",
   "execution_count": 38,
   "id": "328d5eb4-1f99-4df9-877c-91220c468518",
   "metadata": {
    "tags": []
   },
   "outputs": [
    {
     "data": {
      "text/plain": [
       "fun3 (generic function with 1 method)"
      ]
     },
     "execution_count": 38,
     "metadata": {},
     "output_type": "execute_result"
    }
   ],
   "source": [
    "# but loops introduce local scope\n",
    "function fun3()\n",
    "    #x = 0 #if you dont declare first X\n",
    "    # it inside the for scope\n",
    "    for i in [1, 2, 3]\n",
    "        if i == 2\n",
    "            x = 2 # \n",
    "        end\n",
    "    end\n",
    "    return x\n",
    "end"
   ]
  },
  {
   "cell_type": "code",
   "execution_count": 39,
   "id": "7f144d9a-9fa2-4da3-a7c3-2252b7871134",
   "metadata": {
    "tags": []
   },
   "outputs": [
    {
     "data": {
      "text/plain": [
       "3-element Vector{Int64}:\n",
       "  2\n",
       "  3\n",
       " 10"
      ]
     },
     "execution_count": 39,
     "metadata": {},
     "output_type": "execute_result"
    }
   ],
   "source": [
    "fun3()\n",
    "# since x is not defined in the outer scope of the fun4 function, it does not leak out of the for loop."
   ]
  },
  {
   "cell_type": "code",
   "execution_count": null,
   "id": "f4aadec2-3e51-49ed-82d8-5ef7edcee573",
   "metadata": {},
   "outputs": [],
   "source": []
  }
 ],
 "metadata": {
  "kernelspec": {
   "display_name": "Julia 1.9.2",
   "language": "julia",
   "name": "julia-1.9"
  },
  "language_info": {
   "file_extension": ".jl",
   "mimetype": "application/julia",
   "name": "julia",
   "version": "1.9.2"
  },
  "widgets": {
   "application/vnd.jupyter.widget-state+json": {
    "state": {},
    "version_major": 2,
    "version_minor": 0
   }
  }
 },
 "nbformat": 4,
 "nbformat_minor": 5
}
